{
 "cells": [
  {
   "cell_type": "markdown",
   "metadata": {},
   "source": [
    "## HW2 Solution Part 2\n",
    "\n",
    "step1: get keypoints for each images\n",
    "\n",
    "step2: get patches for each keypoints\n",
    "\n",
    "step3: get descriptions for each keypoints (by forward pass patches to the network)\n",
    "\n",
    "**step4**: caculate the similarity matrices\n",
    "\n",
    "step5: get topK similar images for each query\n",
    "\n",
    "step6: draw recall vs precision curves\n",
    "\n",
    "---"
   ]
  },
  {
   "cell_type": "code",
   "execution_count": 1,
   "metadata": {},
   "outputs": [],
   "source": [
    "import os\n",
    "os.environ[\"CUDA_VISIBLE_DEVICES\"] = \"1\""
   ]
  },
  {
   "cell_type": "code",
   "execution_count": 2,
   "metadata": {},
   "outputs": [],
   "source": [
    "# load packages\n",
    "from __future__ import division, print_function\n",
    "import glob\n",
    "import os\n",
    "import cv2\n",
    "import PIL\n",
    "import random\n",
    "import numpy as np\n",
    "# import pandas as pd\n",
    "import matplotlib.pyplot as plt\n",
    "import matplotlib.image as mpimg\n",
    "import torch\n",
    "import torch.nn.init\n",
    "import torch.nn as nn\n",
    "import torch.optim as optim\n",
    "import torch.backends.cudnn as cudnn\n",
    "import torch.nn.functional as F\n",
    "import torchvision.datasets as dset\n",
    "import torchvision.transforms as transforms\n",
    "from tqdm import tqdm\n",
    "from torch.autograd import Variable\n",
    "from copy import deepcopy, copy\n",
    "from Utils import cv2_scale36, cv2_scale, np_reshape, np_reshape64\n",
    "from scipy.optimize import linear_sum_assignment"
   ]
  },
  {
   "cell_type": "code",
   "execution_count": 3,
   "metadata": {},
   "outputs": [],
   "source": [
    "# parameters setting\n",
    "query_num = 35\n",
    "image_num = 140\n",
    "kps_num = 30"
   ]
  },
  {
   "cell_type": "code",
   "execution_count": 4,
   "metadata": {},
   "outputs": [],
   "source": [
    "des_dir = \"des.pt\"\n",
    "[des1, des2] = torch.load(des_dir)\n",
    "# torch.save([des1, des2], des_dir)"
   ]
  },
  {
   "cell_type": "code",
   "execution_count": 5,
   "metadata": {},
   "outputs": [],
   "source": [
    "def getCost_one2one(des1, des2):\n",
    "    # des1 = 30 x 128\n",
    "    # des2 = 30 x 128\n",
    "    cost = torch.zeros(30, 30)\n",
    "    simi = torch.zeros(30, 30)\n",
    "    for i in range(30):\n",
    "        for j in range(30):\n",
    "            cost[i, j] = torch.dist(des1[i], des2[j], 2)\n",
    "            simi[i, j] = torch.exp(-1 * cost[i, j])\n",
    "    row_ind, col_ind = linear_sum_assignment(cost.cpu().numpy())\n",
    "    \n",
    "    return simi[row_ind, col_ind].sum()\n",
    "\n",
    "def getCost_many2many(des1, des2, threshold=0.053):\n",
    "    # des1 = 30 x 128\n",
    "    # des2 = 30 x 128\n",
    "    simi = torch.zeros(30, 30)\n",
    "    for i in range(30):\n",
    "        for j in range(30):\n",
    "            simi[i, j] = torch.exp(-1*torch.dist(des1[i], des2[j], 2))\n",
    "    simiNorm = torch.sqrt(torch.sum(simi * simi))\n",
    "    simi_w = simi / simiNorm\n",
    "    threshold = max(threshold, (simi_w.max() - simi_w.min())/2)\n",
    "    simi_w = simi_w.gt(threshold).float()\n",
    "    \n",
    "    return (simi*simi_w).sum()"
   ]
  },
  {
   "cell_type": "code",
   "execution_count": 6,
   "metadata": {},
   "outputs": [
    {
     "name": "stdout",
     "output_type": "stream",
     "text": [
      "finished No.1 query\n",
      "finished No.2 query\n",
      "finished No.3 query\n",
      "finished No.4 query\n",
      "finished No.5 query\n",
      "finished No.6 query\n",
      "finished No.7 query\n",
      "finished No.8 query\n",
      "finished No.9 query\n",
      "finished No.10 query\n",
      "finished No.11 query\n",
      "finished No.12 query\n",
      "finished No.13 query\n",
      "finished No.14 query\n",
      "finished No.15 query\n",
      "finished No.16 query\n",
      "finished No.17 query\n",
      "finished No.18 query\n",
      "finished No.19 query\n",
      "finished No.20 query\n",
      "finished No.21 query\n",
      "finished No.22 query\n",
      "finished No.23 query\n",
      "finished No.24 query\n",
      "finished No.25 query\n",
      "finished No.26 query\n",
      "finished No.27 query\n",
      "finished No.28 query\n",
      "finished No.29 query\n",
      "finished No.30 query\n",
      "finished No.31 query\n",
      "finished No.32 query\n",
      "finished No.33 query\n",
      "finished No.34 query\n",
      "finished No.35 query\n"
     ]
    }
   ],
   "source": [
    "# generate similarity matrices\n",
    "similarity_one2one = torch.zeros(query_num, image_num)\n",
    "similarity_many2many = torch.zeros(query_num, image_num)\n",
    "for idx in range(query_num):\n",
    "    print(\"finished No.{} query\".format(idx+1))\n",
    "    for jdx in range(image_num):\n",
    "        similarity_one2one[idx,jdx] = getCost_one2one(des1[idx], des2[jdx])\n",
    "        similarity_many2many[idx, jdx] = getCost_many2many(des1[idx], des2[jdx])"
   ]
  },
  {
   "cell_type": "code",
   "execution_count": 7,
   "metadata": {},
   "outputs": [],
   "source": [
    "# save similarity matrices\n",
    "similarity_one2one_dir = \"similarity_one2one.pt\"\n",
    "similarity_many2many_dir = \"similarity_many2many.pt\"\n",
    "torch.save(similarity_one2one, similarity_one2one_dir)\n",
    "torch.save(similarity_many2many, similarity_many2many_dir)"
   ]
  }
 ],
 "metadata": {
  "kernelspec": {
   "display_name": "Python 3",
   "language": "python",
   "name": "python3"
  },
  "language_info": {
   "codemirror_mode": {
    "name": "ipython",
    "version": 3
   },
   "file_extension": ".py",
   "mimetype": "text/x-python",
   "name": "python",
   "nbconvert_exporter": "python",
   "pygments_lexer": "ipython3",
   "version": "3.6.8"
  }
 },
 "nbformat": 4,
 "nbformat_minor": 2
}
